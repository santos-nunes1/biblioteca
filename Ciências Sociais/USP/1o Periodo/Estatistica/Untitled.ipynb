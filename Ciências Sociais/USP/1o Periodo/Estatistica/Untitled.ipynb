{
 "cells": [
  {
   "cell_type": "markdown",
   "metadata": {},
   "source": [
    "# BOXPLOT"
   ]
  },
  {
   "cell_type": "code",
   "execution_count": 1,
   "metadata": {},
   "outputs": [
    {
     "data": {
      "text/plain": [
       "{'whiskers': [<matplotlib.lines.Line2D at 0x7ff1b160fc10>,\n",
       "  <matplotlib.lines.Line2D at 0x7ff1b160ff70>],\n",
       " 'caps': [<matplotlib.lines.Line2D at 0x7ff1b162b310>,\n",
       "  <matplotlib.lines.Line2D at 0x7ff1b162b670>],\n",
       " 'boxes': [<matplotlib.lines.Line2D at 0x7ff1b160f8b0>],\n",
       " 'medians': [<matplotlib.lines.Line2D at 0x7ff1b162b9d0>],\n",
       " 'fliers': [<matplotlib.lines.Line2D at 0x7ff1b162bd30>],\n",
       " 'means': []}"
      ]
     },
     "execution_count": 1,
     "metadata": {},
     "output_type": "execute_result"
    },
    {
     "data": {
      "image/png": "[encoded data removed]",
      "text/plain": [
       "<Figure size 432x288 with 1 Axes>"
      ]
     },
     "metadata": {
      "needs_background": "light"
     },
     "output_type": "display_data"
    }
   ],
   "source": [
    "import numpy as np\n",
    "import pandas as pd\n",
    "import matplotlib.pyplot as plt\n",
    "\n",
    "\n",
    "a = [5,4,7,8,3,4,2,7,9,7,6,18]\n",
    "pandas_a =  pd.Series(a)\n",
    "\n",
    "plt.boxplot(a)"
   ]
  },
  {
   "cell_type": "markdown",
   "metadata": {},
   "source": [
    "# Coeficiente de Correlação de Pearson"
   ]
  },
  {
   "cell_type": "code",
   "execution_count": 2,
   "metadata": {},
   "outputs": [],
   "source": [
    "import numpy as np"
   ]
  },
  {
   "cell_type": "code",
   "execution_count": 3,
   "metadata": {},
   "outputs": [
    {
     "name": "stdout",
     "output_type": "stream",
     "text": [
      "[1 2 3]\n",
      "[437 352 267]\n"
     ]
    }
   ],
   "source": [
    "#x = np.arange(10, 20)\n",
    "x = np.array([1,2,3])\n",
    "print (x)\n",
    "\n",
    "y = np.array([437, 352, 267])\n",
    "print (y)"
   ]
  },
  {
   "cell_type": "code",
   "execution_count": 4,
   "metadata": {},
   "outputs": [
    {
     "name": "stdout",
     "output_type": "stream",
     "text": [
      "Correlação de X com relação a Y -1.0\n",
      "Correlação de Y com relação a X -1.0\n"
     ]
    }
   ],
   "source": [
    "r = np.corrcoef(x, y)\n",
    "print ('Correlação de X com relação a Y', r[0, 1])\n",
    "print ('Correlação de Y com relação a X', r[1, 0])"
   ]
  },
  {
   "cell_type": "markdown",
   "metadata": {},
   "source": [
    "## Usando ScyPy"
   ]
  },
  {
   "cell_type": "code",
   "execution_count": 6,
   "metadata": {},
   "outputs": [],
   "source": [
    "import scipy.stats"
   ]
  },
  {
   "cell_type": "code",
   "execution_count": 7,
   "metadata": {},
   "outputs": [
    {
     "data": {
      "text/plain": [
       "(0.7586402890911869, 0.010964341301680832)"
      ]
     },
     "execution_count": 7,
     "metadata": {},
     "output_type": "execute_result"
    }
   ],
   "source": [
    "scipy.stats.pearsonr(x, y)    # Pearson's r"
   ]
  },
  {
   "cell_type": "markdown",
   "metadata": {},
   "source": [
    "## Plotando Dados"
   ]
  },
  {
   "cell_type": "code",
   "execution_count": 8,
   "metadata": {},
   "outputs": [],
   "source": [
    "import matplotlib.pyplot as plt"
   ]
  },
  {
   "cell_type": "code",
   "execution_count": 10,
   "metadata": {},
   "outputs": [
    {
     "data": {
      "text/plain": [
       "[<matplotlib.lines.Line2D at 0x7fbdc1376880>]"
      ]
     },
     "execution_count": 10,
     "metadata": {},
     "output_type": "execute_result"
    },
    {
     "data": {
      "image/png": "[encoded data removed]",
      "text/plain": [
       "<Figure size 432x288 with 1 Axes>"
      ]
     },
     "metadata": {
      "needs_background": "light"
     },
     "output_type": "display_data"
    }
   ],
   "source": [
    "plt.plot(x,y, 'ro')\n",
    "# plt.plot(x,y)"
   ]
  },
  {
   "cell_type": "markdown",
   "metadata": {},
   "source": [
    "## Regressão Linear"
   ]
  },
  {
   "cell_type": "markdown",
   "metadata": {},
   "source": [
    "y = a + b.x\n",
    "\n",
    "y = intercept + slope.x\n",
    "\n",
    "slope é a variável mais importante! Ele quem diz efetivamente a relação de y em função de x"
   ]
  },
  {
   "cell_type": "code",
   "execution_count": 14,
   "metadata": {},
   "outputs": [
    {
     "name": "stdout",
     "output_type": "stream",
     "text": [
      "slope 7.4363636363636365\n",
      "intercept:  -85.92727272727274\n",
      "rvalue:  0.7586402890911869\n",
      "pvalue:  0.010964341301680825\n",
      "stderr:  2.257878767543913\n"
     ]
    }
   ],
   "source": [
    "result = scipy.stats.linregress(x, y)\n",
    "print('slope', result.slope)\n",
    "print('intercept: ', result.intercept)\n",
    "print('rvalue: ', result.rvalue)\n",
    "print('pvalue: ', result.pvalue)\n",
    "print('stderr: ', result.stderr)"
   ]
  },
  {
   "cell_type": "markdown",
   "metadata": {},
   "source": [
    "## Gráfico de Contingência\n",
    "\n",
    "http://hamelg.blogspot.com/2015/11/python-for-data-analysis-part-19_17.html"
   ]
  },
  {
   "cell_type": "code",
   "execution_count": null,
   "metadata": {},
   "outputs": [],
   "source": []
  }
 ],
 "metadata": {
  "kernelspec": {
   "display_name": "Python 3",
   "language": "python",
   "name": "python3"
  },
  "language_info": {
   "codemirror_mode": {
    "name": "ipython",
    "version": 3
   },
   "file_extension": ".py",
   "mimetype": "text/x-python",
   "name": "python",
   "nbconvert_exporter": "python",
   "pygments_lexer": "ipython3",
   "version": "3.8.5"
  }
 },
 "nbformat": 4,
 "nbformat_minor": 4
}
